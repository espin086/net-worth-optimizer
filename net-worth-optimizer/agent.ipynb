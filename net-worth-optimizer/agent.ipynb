{
 "cells": [
  {
   "cell_type": "markdown",
   "metadata": {},
   "source": [
    "# agent"
   ]
  },
  {
   "cell_type": "markdown",
   "metadata": {},
   "source": [
    "This script defines the actions that an agent (individual) can take to improve his/her networth. "
   ]
  },
  {
   "cell_type": "code",
   "execution_count": 41,
   "metadata": {},
   "outputs": [],
   "source": [
    "class Agent:\n",
    "    '''Creates instance of an agent that contain current and projected wealth given investment options'''\n",
    "    def __init__(self, income, expenses, assets, liabilities, horizon=5, discount_rate = .03):\n",
    "        '''Keyword arguments:\n",
    "        income -- monthly income \n",
    "        expenses -- monthly expenses\n",
    "        assets -- total assets\n",
    "        liabilites -- total liabilities\n",
    "            horizon -- time horizon for optimized plan to consider\n",
    "    '''\n",
    "        self.income = income\n",
    "        self.expenses = expenses\n",
    "        self.assets = assets\n",
    "        self.liabilities = liabilities\n",
    "        self.horizon = horizon\n",
    "        self.discount_rate = discount_rate\n",
    "        return None\n",
    "    pass\n",
    "    "
   ]
  },
  {
   "cell_type": "code",
   "execution_count": 42,
   "metadata": {},
   "outputs": [],
   "source": [
    "chickens = Agent(income=5000, expenses = 2300, assets = 100000, liabilities = 34000, horizon = 5)"
   ]
  },
  {
   "cell_type": "code",
   "execution_count": null,
   "metadata": {},
   "outputs": [],
   "source": []
  }
 ],
 "metadata": {
  "kernelspec": {
   "display_name": "Python 3",
   "language": "python",
   "name": "python3"
  },
  "language_info": {
   "codemirror_mode": {
    "name": "ipython",
    "version": 2
   },
   "file_extension": ".py",
   "mimetype": "text/x-python",
   "name": "python",
   "nbconvert_exporter": "python",
   "pygments_lexer": "ipython2",
   "version": "2.7.15"
  }
 },
 "nbformat": 4,
 "nbformat_minor": 2
}
